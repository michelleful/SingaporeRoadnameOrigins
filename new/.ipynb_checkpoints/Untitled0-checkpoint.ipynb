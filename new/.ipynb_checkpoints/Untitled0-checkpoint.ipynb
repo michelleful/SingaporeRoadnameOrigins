{
 "metadata": {
  "name": "",
  "signature": "sha256:4825ddb1df3378ad50d142991ccef0ebbb21df3a8814c5324d9e5044e7c65d55"
 },
 "nbformat": 3,
 "nbformat_minor": 0,
 "worksheets": [
  {
   "cells": [
    {
     "cell_type": "code",
     "collapsed": false,
     "input": [
      "# Load up all the data like we did last time\n",
      "\n",
      "from __future__ import division, print_function\n",
      "\n",
      "# open data in GeoPandas\n",
      "import geopandas as gpd\n",
      "roads = gpd.GeoDataFrame.from_file('input/classified_roads.geojson')\n",
      "\n",
      "# manually correct some incorrect ones - should probably correct upstream, really\n",
      "roads[\"classification\"][roads[\"road_name\"]==\"Kismis\"] = \"Malay\"\n",
      "roads[\"classification\"][roads[\"road_name\"]==\"Merbok\"] = \"Malay\"\n",
      "roads[\"classification\"][roads[\"road_name\"]==\"Onan\"] = \"Malay\"\n",
      "roads[\"classification\"][roads[\"road_name\"]==\"Mariam\"] = \"Malay\"\n",
      "\n",
      "# extract out just the road names, whether the road \"tag\" (i.e. Street, Jalan, etc) is Malay or not, and the classification\n",
      "unique_roadnames = roads.groupby([\"road_name\", \"classification\"]).sum().reset_index()\n",
      "unique_roadnames = unique_roadnames[[\"road_name\", \"has_malay_road_tag\", \"classification\"]]\n"
     ],
     "language": "python",
     "metadata": {},
     "outputs": [],
     "prompt_number": 1
    },
    {
     "cell_type": "code",
     "collapsed": false,
     "input": [],
     "language": "python",
     "metadata": {},
     "outputs": []
    }
   ],
   "metadata": {}
  }
 ]
}